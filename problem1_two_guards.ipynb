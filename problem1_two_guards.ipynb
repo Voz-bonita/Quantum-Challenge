{
 "cells": [
  {
   "cell_type": "markdown",
   "metadata": {},
   "source": [
    "# Problem 1 (Two Guards Enigma)\n",
    "\n",
    "A prisoner, sentenced to death, faces the guard that shall impose his sentence. The guard considered himself very even and stated to the prisoner that he would have one last chance of surviving depending on his intelligence, the guard then showed him two doors with one guard for each door, behind one door he will be safe, behind the other he will still face his sentence. To make the problem reliant on the intelligence of the prisoner and not only luck, one more detail is added to the problem, one of the guards always lies and the other always tells the truth and you can only ask one question that should be directed to only of them.\n",
    "\n",
    "## Problem 1.1 What question would you ask to get to the safe door?\n",
    "## Problem 1.2 What is the probability distribution of every possible situation?\n",
    "## Problem 1.3 Build the Quantum Circuit that models and solves the guard enigma."
   ]
  },
  {
   "cell_type": "markdown",
   "metadata": {},
   "source": [
    "# Solution\n",
    "\n",
    "## Solution 1.1\n",
    "\n",
    "Let 0 be the guard that always tells the truth and be 1 the other guard, let 0 be one of the doors and 1 be the other. Suppose that the prisoner asks a question such that the answer will be one of the doors, as one guard always tells the truth and the other always lies, their answer will always be opposite, no matter the question he asks.\n",
    "\n",
    "If he simply asks \"Which door is the safe door\", he will still be left with only a guess. If he asks to one of the guards, \"Which door would the other guard tell me that leads to safety, if I asked him instead?\" the truth guard would point to the wrong door as this is what the liar guard would say, on the other hand, the liar guard would point to the wrong door as this is the opposite of what the truthful guard would say, so no matter which door the guard points to, he has to pick the other one and he will be safe, solving the enigma."
   ]
  },
  {
   "cell_type": "markdown",
   "metadata": {},
   "source": [
    "## Solution 1.2\n",
    "\n",
    "Let's model the possible states of this enigma using a table of truth. If we live in a world where the door 1 leads to safety, then it follows that\n",
    "\n",
    "|Guard|Answer|Safety Door|\n",
    "|-----|------|-----------|\n",
    "|    0|     0|          1|\n",
    "|    1|     0|          1|\n",
    "\n",
    "Perhaps, if we live in a world where the door 0 leads to safety, then\n",
    "\n",
    "|Guard|Answer|Safety Door|\n",
    "|-----|------|-----------|\n",
    "|    0|     1|          0|\n",
    "|    1|     1|          0|\n",
    "\n",
    "Now, consider we live in a superposition of the worlds where door 0 and door 1 are the safe door, our system could be any of the following states\n",
    "\n",
    "|Guard|Answer|Safety Door|\n",
    "|-----|------|-----------|\n",
    "|    0|     0|          1|\n",
    "|    0|     1|          0|\n",
    "|    1|     0|          1|\n",
    "|    1|     1|          0|\n",
    "\n",
    "As there is information about the probabilities of any of thoose states being more probable, assume they are all equally probable with $\\frac{1}{4}$ or $25\\%$ chance of happening."
   ]
  },
  {
   "cell_type": "markdown",
   "metadata": {},
   "source": [
    "## Solution 1.3\n",
    "\n",
    "As a convention let's start our circuit with 3 qubits in the state $\\ket{00}\\ket{0}$ to model respectively the guard, the answer and the door. Also, for this and the following exercises let's assume that the right most bit is the first to be indexed with 0 and the index increments whe walking to the left.\n",
    "\n",
    "As we don't know which guard we are asking the question to we could apply a Haddamard gate to it's qubit and the same goes to the door qubit as the door superposition is mentioned. However, looking at the truth table built on solution 1.2, it seems reasonable that we apply the Haddamard gate to the answer qubit, since the states $\\{00, 01, 10, 11\\}$ should happen with equal probabilities and then change the door qubit acording to the answer as we noted in solution 1.1 they are opposites.\n",
    "\n",
    "\\begin{align*}\n",
    "\\ket{00}\\ket{0} &\\stackrel{H^{\\oplus2}}{\\rightarrow} \\ket{++}\\ket{0}\\\\\n",
    "&= \\frac{1}{\\sqrt{2}}(\\ket{0} + \\ket{1})\\frac{1}{\\sqrt{2}}(\\ket{0} + \\ket{1})\\ket{0}\\\\\n",
    "&= \\frac{1}{2}(\\ket{00}\\ket{0} + \\ket{01}\\ket{0} + \\ket{10}\\ket{0} + \\ket{11}\\ket{0})\\\\\n",
    "\\end{align*}\n",
    "\n",
    "As already mentioned, the guard's answer and the door should be opposites, which is described by a $CNOT$ gate. Looking at the system qubits and the truth table from solution 1.2, it's possible to check that this $CNOT$ should fire only if the control qubit is 0, but that operation is not built-in for $qiskit$. One way to solve this is by flipping the middle qubit with the $X$ gate, applying $CNOT$ and then applying $X$.\n",
    "\n",
    "\n",
    "\\begin{align*}\n",
    "\\frac{1}{2}(\\ket{00}\\ket{0} + \\ket{01}\\ket{0} + \\ket{10}\\ket{0} + \\ket{11}\\ket{0}) &\\stackrel{X_1}{\\rightarrow} \\frac{1}{2}(\\ket{01}\\ket{0} + \\ket{00}\\ket{0} + \\ket{11}\\ket{0} + \\ket{10}\\ket{0})\\\\\n",
    "&\\stackrel{CNOT_{1,0}}{\\rightarrow} \\frac{1}{2}(\\ket{01}\\ket{1} + \\ket{00}\\ket{0} + \\ket{11}\\ket{1} + \\ket{10}\\ket{0})\\\\\n",
    "&\\stackrel{X_1}{\\rightarrow} \\frac{1}{2}(\\ket{00}\\ket{1} + \\ket{01}\\ket{0} + \\ket{10}\\ket{1} + \\ket{11}\\ket{0})\\\\\n",
    "\\end{align*}"
   ]
  },
  {
   "cell_type": "code",
   "execution_count": null,
   "metadata": {},
   "outputs": [
    {
     "data": {
      "image/png": "[encoded data removed]",
      "text/plain": [
       "<Figure size 831.22x367.889 with 1 Axes>"
      ]
     },
     "execution_count": 2,
     "metadata": {},
     "output_type": "execute_result"
    }
   ],
   "source": [
    "import qiskit\n",
    "\n",
    "\n",
    "circuit = qiskit.QuantumCircuit(3)\n",
    "\n",
    "circuit.h([1, 2])\n",
    "\n",
    "circuit.x(1)\n",
    "circuit.cx(1, 0)\n",
    "circuit.x(1)\n",
    "\n",
    "circuit.measure_all()\n",
    "\n",
    "circuit.draw(\"mpl\")"
   ]
  }
 ],
 "metadata": {
  "kernelspec": {
   "display_name": "venv",
   "language": "python",
   "name": "python3"
  },
  "language_info": {
   "codemirror_mode": {
    "name": "ipython",
    "version": 3
   },
   "file_extension": ".py",
   "mimetype": "text/x-python",
   "name": "python",
   "nbconvert_exporter": "python",
   "pygments_lexer": "ipython3",
   "version": "3.11.3"
  }
 },
 "nbformat": 4,
 "nbformat_minor": 2
}
