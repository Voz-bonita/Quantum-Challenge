{
 "cells": [
  {
   "cell_type": "markdown",
   "metadata": {},
   "source": [
    "# Problem 1 (Two Guards Enigma)\n",
    "\n",
    "A prisoner, sentenced to death, faces the guard that shall impose his sentence. The guard considered himself very even and stated to the prisoner that he would have one last chance of surviving depending on his intelligence, the guard then showed him two doors with one guard for each door, behind one door he will be safe, behind the other he will still face his sentence. To make the problem reliant on the intelligence of the prisoner and not only luck, one more detail is added to the problem, one of the guards always lies and the other always tells the truth and you can only ask one question that should be directed to only of them.\n",
    "\n",
    "## Problem 1.1 What question would you ask to get to the safe door?\n",
    "## Problem 1.2 What is the probability distribution of every possible situation?\n",
    "## Problem 1.3 Build the Quantum Circuit that models and solves the guard enigma."
   ]
  }
 ],
 "metadata": {
  "language_info": {
   "name": "python"
  }
 },
 "nbformat": 4,
 "nbformat_minor": 2
}
